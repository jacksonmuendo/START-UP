{
 "cells": [
  {
   "cell_type": "code",
   "execution_count": 10,
   "metadata": {},
   "outputs": [
    {
     "name": "stdout",
     "output_type": "stream",
     "text": [
      "welcome to a simple circle calculations\n",
      "<------------------------------------->\n",
      "circle radius12\n",
      "area of circle = 452.448\n",
      "circumfrance of circle = 75.408\n"
     ]
    }
   ],
   "source": [
    "print(\"welcome to a simple circle calculations\")\n",
    "print(\"<------------------------------------->\")\n",
    "pie=3.142\n",
    "radius=input('circle radius')\n",
    "radius=float(radius)\n",
    "area = pie*radius*radius\n",
    "circumfrance=2*pie*radius\n",
    "print('area of circle =',area)\n",
    "print('circumfrance of circle =',circumfrance)"
   ]
  },
  {
   "cell_type": "code",
   "execution_count": null,
   "metadata": {},
   "outputs": [],
   "source": []
  }
 ],
 "metadata": {
  "kernelspec": {
   "display_name": "Python 3",
   "language": "python",
   "name": "python3"
  },
  "language_info": {
   "codemirror_mode": {
    "name": "ipython",
    "version": 3
   },
   "file_extension": ".py",
   "mimetype": "text/x-python",
   "name": "python",
   "nbconvert_exporter": "python",
   "pygments_lexer": "ipython3",
   "version": "3.7.3"
  }
 },
 "nbformat": 4,
 "nbformat_minor": 2
}
