{
 "cells": [
  {
   "cell_type": "code",
   "execution_count": null,
   "metadata": {},
   "outputs": [],
   "source": [
    "name = input('what is your name?')\n",
    "pay = input('how much do youmake per hour')\n",
    "hours = input('how many hours do you make per week')\n",
    "pay = float (pay)\n",
    "hours = float (hours)\n",
    "total = pay * hours\n",
    "if (hours<= 40):\n",
    "    total = pay * hours\n",
    "else:\n",
    "    total = 40 * pay + 1.5 * pay * (hours -40)\n",
    "print (name,'you make',total,'dollars per week')"
   ]
  }
 ],
 "metadata": {
  "kernelspec": {
   "display_name": "Python 3",
   "language": "python",
   "name": "python3"
  },
  "language_info": {
   "codemirror_mode": {
    "name": "ipython",
    "version": 3
   },
   "file_extension": ".py",
   "mimetype": "text/x-python",
   "name": "python",
   "nbconvert_exporter": "python",
   "pygments_lexer": "ipython3",
   "version": "3.7.3"
  }
 },
 "nbformat": 4,
 "nbformat_minor": 2
}
