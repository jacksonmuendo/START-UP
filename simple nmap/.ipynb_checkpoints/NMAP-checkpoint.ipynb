{
 "cells": [
  {
   "cell_type": "code",
   "execution_count": null,
   "metadata": {},
   "outputs": [],
   "source": [
    "import nmap\n",
    "print('welcome to simple nmap automation tool')\n",
    "print('%************************************%')\n",
    "scanner = nmap.Portscanner()\n",
    "ip= input('enter the ip_addres to scan please')\n",
    "print('the ip adres is', ip)\n",
    "nscan = input('''please enter the type of scann you want to scan\n",
    "1} SYN ACK scan\n",
    "2} UDP scan\n",
    "3} comprehesive scan\\n''')\n",
    "print('you selected option',scan)\n",
    "if nscan == '1':\n",
    "    scanner.scan(ip,'1-2024'-v -i)\n",
    "    print(scanner.scaninfo())\n",
    "    print('ip status:', scanner(ip).state())\n",
    "    print(scanner[ip].all-protocals())\n",
    "    print('open ports:',scanner(ip)['tcp'].keys())\n",
    "elif nscan == '2':\n",
    "    scanner.scan(ip,'1-2024'-u -i)\n",
    "    print(scanner.scaninfo())\n",
    "    print('ip status:', scanner[ip].state())\n",
    "    print(scanner[ip].all-protocals())\n",
    "    print('open ports:',scanner(ip)['udp'].keys())\n",
    "elif nscan == '3':\n",
    "    scanner.scan(ip, '1-2024'-v -i)\n",
    "    print(scanner.scaninfo())\n",
    "    print('ip status:', scanner[ip].state())\n",
    "    print(scanner[ip].all-protocals())\n",
    "    print('open ports:',scanner(ip)['tcp'].keys())\n",
    "else :\n",
    "    ('please select a valid option')\n"
   ]
  },
  {
   "cell_type": "code",
   "execution_count": null,
   "metadata": {},
   "outputs": [],
   "source": []
  }
 ],
 "metadata": {
  "kernelspec": {
   "display_name": "Python 3",
   "language": "python",
   "name": "python3"
  },
  "language_info": {
   "codemirror_mode": {
    "name": "ipython",
    "version": 3
   },
   "file_extension": ".py",
   "mimetype": "text/x-python",
   "name": "python",
   "nbconvert_exporter": "python",
   "pygments_lexer": "ipython3",
   "version": "3.7.3"
  }
 },
 "nbformat": 4,
 "nbformat_minor": 2
}
