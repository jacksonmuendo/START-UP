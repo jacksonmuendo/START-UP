{
 "cells": [
  {
   "cell_type": "code",
   "execution_count": null,
   "metadata": {},
   "outputs": [],
   "source": [
    "name = input('what is your name ?')\n",
    "height_m = input('what is your height in metres ?')\n",
    "weight_kg = input('what is your weight in kgs ?')\n",
    "bmi = weight_kg/(height_m**2)\n",
    "print('BMI CALCULATOR')\n",
    "print(bmi)\n",
    "if bmi < 25:\n",
    "    print(name, 'you are  not over weight')\n",
    "else:\n",
    "    print(name, 'you are over weight')"
   ]
  },
  {
   "cell_type": "code",
   "execution_count": null,
   "metadata": {},
   "outputs": [],
   "source": []
  }
 ],
 "metadata": {
  "kernelspec": {
   "display_name": "Python 3",
   "language": "python",
   "name": "python3"
  },
  "language_info": {
   "codemirror_mode": {
    "name": "ipython",
    "version": 3
   },
   "file_extension": ".py",
   "mimetype": "text/x-python",
   "name": "python",
   "nbconvert_exporter": "python",
   "pygments_lexer": "ipython3",
   "version": "3.7.3"
  }
 },
 "nbformat": 4,
 "nbformat_minor": 2
}
