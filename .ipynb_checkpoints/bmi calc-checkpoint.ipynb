{
 "cells": [
  {
   "cell_type": "code",
   "execution_count": null,
   "metadata": {},
   "outputs": [],
   "source": [
    "name = input('what is your name ?')\n",
    "height_m = input('what is your height in metres ?')\n",
    "weight_kg = input('what is your weight in kgs ?')\n",
    "height_m = float(height_m)\n",
    "weight_kg = float(weight_kg)\n",
    "bmi = weight_kg/(height_m**2)\n",
    "print('BMI CALCULATOR')\n",
    "print(bmi)\n",
    "if bmi < 20:\n",
    "    print(name, 'your under weight')\n",
    "elif bmi < 25:\n",
    "    print(name, 'your weight is normal')\n",
    "else:\n",
    "    print(name, 'your are over weight')"
   ]
  },
  {
   "cell_type": "code",
   "execution_count": null,
   "metadata": {},
   "outputs": [],
   "source": []
  }
 ],
 "metadata": {
  "kernelspec": {
   "display_name": "Python 3",
   "language": "python",
   "name": "python3"
  },
  "language_info": {
   "codemirror_mode": {
    "name": "ipython",
    "version": 3
   },
   "file_extension": ".py",
   "mimetype": "text/x-python",
   "name": "python",
   "nbconvert_exporter": "python",
   "pygments_lexer": "ipython3",
   "version": "3.7.3"
  }
 },
 "nbformat": 4,
 "nbformat_minor": 2
}
